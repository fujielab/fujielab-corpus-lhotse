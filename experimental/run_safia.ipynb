{
 "cells": [
  {
   "cell_type": "code",
   "execution_count": null,
   "id": "5160b642",
   "metadata": {},
   "outputs": [],
   "source": [
    "from fujielab.corpus.lhotse_ext.lhotse.recipes.fujielab_local.cejc_util import run_safia"
   ]
  },
  {
   "cell_type": "code",
   "execution_count": null,
   "id": "fbd552a0",
   "metadata": {},
   "outputs": [],
   "source": [
    "run_safia(\"/autofs/diamond2/share/corpus/CEJC\", \"/home/fujie/tmp/CEJC_safia\")"
   ]
  },
  {
   "cell_type": "code",
   "execution_count": null,
   "id": "661ecd9a",
   "metadata": {},
   "outputs": [],
   "source": []
  }
 ],
 "metadata": {
  "kernelspec": {
   "display_name": "Python 3",
   "language": "python",
   "name": "python3"
  },
  "language_info": {
   "codemirror_mode": {
    "name": "ipython",
    "version": 3
   },
   "file_extension": ".py",
   "mimetype": "text/x-python",
   "name": "python",
   "nbconvert_exporter": "python",
   "pygments_lexer": "ipython3",
   "version": "3.11.13"
  }
 },
 "nbformat": 4,
 "nbformat_minor": 5
}
