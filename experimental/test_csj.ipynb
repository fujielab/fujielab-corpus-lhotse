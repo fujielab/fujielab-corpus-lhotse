{
 "cells": [
  {
   "cell_type": "code",
   "execution_count": 4,
   "id": "987e9eac",
   "metadata": {},
   "outputs": [],
   "source": [
    "from lhotse.recipes import csj\n",
    "from lhotse import CutSet, RecordingSet, SupervisionSet"
   ]
  },
  {
   "cell_type": "code",
   "execution_count": 5,
   "id": "540fcb1a",
   "metadata": {},
   "outputs": [],
   "source": [
    "# data = csj.prepare_csj(\n",
    "#     corpus_dir=\"/autofs/diamond/share/corpus/CSJ\",\n",
    "#     transcript_dir=\"./tmp/csj/transcript\",\n",
    "#     manifest_dir=\"./tmp/csj/manifest\",\n",
    "# )"
   ]
  },
  {
   "cell_type": "code",
   "execution_count": 7,
   "id": "2ac7c9c3",
   "metadata": {},
   "outputs": [],
   "source": [
    "csj_core_recordings = RecordingSet.from_file(\"./tmp/csj/manifest/csj_recordings_core.jsonl.gz\")\n",
    "csj_core_supervisions = SupervisionSet.from_file(\"./tmp/csj/manifest/csj_supervisions_core.jsonl.gz\")"
   ]
  },
  {
   "cell_type": "code",
   "execution_count": 8,
   "id": "050b9826",
   "metadata": {},
   "outputs": [],
   "source": [
    "csj_core_cutset = CutSet.from_manifests(csj_core_recordings, csj_core_supervisions)"
   ]
  },
  {
   "cell_type": "code",
   "execution_count": null,
   "id": "a28081ca",
   "metadata": {},
   "outputs": [],
   "source": []
  }
 ],
 "metadata": {
  "kernelspec": {
   "display_name": "Python 3",
   "language": "python",
   "name": "python3"
  },
  "language_info": {
   "codemirror_mode": {
    "name": "ipython",
    "version": 3
   },
   "file_extension": ".py",
   "mimetype": "text/x-python",
   "name": "python",
   "nbconvert_exporter": "python",
   "pygments_lexer": "ipython3",
   "version": "3.11.13"
  }
 },
 "nbformat": 4,
 "nbformat_minor": 5
}
