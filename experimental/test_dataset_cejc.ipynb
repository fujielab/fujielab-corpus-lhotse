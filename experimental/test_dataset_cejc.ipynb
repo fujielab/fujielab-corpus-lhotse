{
 "cells": [
  {
   "cell_type": "code",
   "execution_count": null,
   "id": "f14f226e",
   "metadata": {},
   "outputs": [],
   "source": [
    "from fujielab.corpus.lhotse_ext.lhotse.recipes.cejc import prepare_cejc"
   ]
  },
  {
   "cell_type": "code",
   "execution_count": null,
   "id": "e105da05",
   "metadata": {},
   "outputs": [],
   "source": [
    "data = prepare_cejc(\"/autofs/diamond2/share/corpus/CEJC2304\",\n",
    "             \"/autofs/diamond2/share/corpus/CEJC_safia\",\n",
    "             \"./tmp/transcripts\",\n",
    "             \"./tmp/manifests\")"
   ]
  },
  {
   "cell_type": "code",
   "execution_count": null,
   "id": "26c0fe06",
   "metadata": {},
   "outputs": [],
   "source": [
    "from lhotse.cut import CutSet"
   ]
  },
  {
   "cell_type": "code",
   "execution_count": null,
   "id": "951b269b",
   "metadata": {},
   "outputs": [],
   "source": [
    "cuts = CutSet.from_manifests(recordings=data[\"recordings\"],\n",
    "                      supervisions=data[\"supervisions\"],)"
   ]
  },
  {
   "cell_type": "code",
   "execution_count": null,
   "id": "c0fbc681",
   "metadata": {},
   "outputs": [],
   "source": [
    "trimmed_cuts = cuts[21].trim_to_supervisions(keep_all_channels=False, keep_overlapping=False)"
   ]
  },
  {
   "cell_type": "code",
   "execution_count": null,
   "id": "7d0ec7d8",
   "metadata": {},
   "outputs": [],
   "source": [
    "i = 117\n",
    "cut = trimmed_cuts[i]\n",
    "print(cut.supervisions)\n",
    "cut.play_audio()"
   ]
  },
  {
   "cell_type": "code",
   "execution_count": null,
   "id": "dc5621d1",
   "metadata": {},
   "outputs": [],
   "source": []
  }
 ],
 "metadata": {
  "kernelspec": {
   "display_name": "Python 3",
   "language": "python",
   "name": "python3"
  },
  "language_info": {
   "codemirror_mode": {
    "name": "ipython",
    "version": 3
   },
   "file_extension": ".py",
   "mimetype": "text/x-python",
   "name": "python",
   "nbconvert_exporter": "python",
   "pygments_lexer": "ipython3",
   "version": "3.11.13"
  }
 },
 "nbformat": 4,
 "nbformat_minor": 5
}
