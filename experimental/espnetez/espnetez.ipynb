{
 "cells": [
  {
   "cell_type": "code",
   "execution_count": null,
   "id": "facb07d5",
   "metadata": {},
   "outputs": [],
   "source": [
    "from lhotse.cut import CutSet\n",
    "from lhotse.supervision import SupervisionSet\n",
    "from lhotse.audio.recording_set import RecordingSet"
   ]
  },
  {
   "cell_type": "code",
   "execution_count": null,
   "id": "61144891",
   "metadata": {},
   "outputs": [],
   "source": [
    "supervisions = SupervisionSet.from_file(\"../tmp/csj/manifest/csj_supervisions_noncore.jsonl.gz\")"
   ]
  },
  {
   "cell_type": "code",
   "execution_count": null,
   "id": "0a575b33",
   "metadata": {},
   "outputs": [],
   "source": [
    "from espnet2.bin.tokenize_text import tokenize"
   ]
  },
  {
   "cell_type": "code",
   "execution_count": null,
   "id": "c4417ea2",
   "metadata": {},
   "outputs": [],
   "source": [
    "import tqdm"
   ]
  },
  {
   "cell_type": "code",
   "execution_count": null,
   "id": "f143125d",
   "metadata": {},
   "outputs": [],
   "source": [
    "from espnet2.text.char_tokenizer import CharTokenizer\n",
    "\n",
    "tokenizer = CharTokenizer(\n",
    "    non_linguistic_symbols=None,\n",
    "    space_symbol=\"<space>\",\n",
    "    remove_non_linguistic_symbols=False,\n",
    "    nonsplit_symbols=None,\n",
    ")\n",
    "\n",
    "token_set = set()\n",
    "for supervision in tqdm.tqdm(supervisions, desc=\"Collecting tokens\"):\n",
    "    text = supervision.text\n",
    "    if text is None:\n",
    "        continue\n",
    "    tokens = tokenizer.text2tokens(text)\n",
    "    token_set.update(tokens)\n",
    "\n",
    "token_list = sorted(list(token_set))\n",
    "token_list.extend([\"<blank>\", \"<unk>\", \"<sos/eos>\"])"
   ]
  },
  {
   "cell_type": "code",
   "execution_count": null,
   "id": "a77c40f3",
   "metadata": {},
   "outputs": [],
   "source": [
    "len(token_list)"
   ]
  },
  {
   "cell_type": "code",
   "execution_count": null,
   "id": "a745268d",
   "metadata": {},
   "outputs": [],
   "source": [
    "# write the token list to a file\n",
    "with open(\"./tokens.txt\", \"w\", encoding=\"utf-8\") as f:\n",
    "    for token in token_list:\n",
    "        f.write(token + \"\\n\")"
   ]
  },
  {
   "cell_type": "code",
   "execution_count": null,
   "id": "c8b7ef94",
   "metadata": {},
   "outputs": [],
   "source": [
    "import espnetez as ez"
   ]
  },
  {
   "cell_type": "code",
   "execution_count": null,
   "id": "cedad1d0",
   "metadata": {},
   "outputs": [],
   "source": [
    "EXP_DIR = \"exp/train_asr_branchformer_e24_amp\"\n",
    "STATS_DIR = \"exp/stats\"\n",
    "\n",
    "# Jupyterでargparseを使う際のトリック: sys.argvをダミーに置き換える\n",
    "import sys, yaml\n",
    "sys.argv = ['']\n",
    "\n",
    "training_config = ez.config.from_yaml(\"asr\", \"./train.yaml\")\n",
    "\n",
    "preprocessor_config = yaml.safe_load(\n",
    "    open(\"./preprocess.yaml\", \"r\", encoding=\"utf-8\")\n",
    ")\n",
    "training_config.update(preprocessor_config)\n"
   ]
  },
  {
   "cell_type": "code",
   "execution_count": null,
   "id": "d7ce867e",
   "metadata": {},
   "outputs": [],
   "source": [
    "cutset_core = CutSet.from_manifests(\n",
    "    recordings=RecordingSet.from_file(\"../tmp/csj/manifest/csj_recordings_core.jsonl.gz\"),\n",
    "    supervisions=SupervisionSet.from_file(\"../tmp/csj/manifest/csj_supervisions_core.jsonl.gz\"))\n",
    "cutset_valid = CutSet.from_manifests(\n",
    "    recordings=RecordingSet.from_file(\"../tmp/csj/manifest/csj_recordings_valid.jsonl.gz\"),\n",
    "    supervisions=SupervisionSet.from_file(\"../tmp/csj/manifest/csj_supervisions_valid.jsonl.gz\"))"
   ]
  },
  {
   "cell_type": "code",
   "execution_count": null,
   "id": "f05ef28a",
   "metadata": {},
   "outputs": [],
   "source": [
    "cutset_core_ = cutset_core.trim_to_supervisions()\n",
    "cutset_valid_ = cutset_valid.trim_to_supervisions()"
   ]
  },
  {
   "cell_type": "code",
   "execution_count": null,
   "id": "4a90531e",
   "metadata": {},
   "outputs": [],
   "source": [
    "from espnet2.text.token_id_converter import TokenIDConverter\n",
    "\n",
    "converter = TokenIDConverter(\n",
    "    token_list=\"./tokens.txt\",\n",
    "    unk_symbol=\"<unk>\",)"
   ]
  },
  {
   "cell_type": "code",
   "execution_count": null,
   "id": "617d4d89",
   "metadata": {},
   "outputs": [],
   "source": [
    "import os\n",
    "from pathlib import Path\n",
    "import librosa\n",
    "import numpy as np\n",
    "\n",
    "def tokenize(text):\n",
    "    \"\"\"Tokenize text using the CharTokenizer.\"\"\"\n",
    "    tokens = tokenizer.text2tokens(text)\n",
    "    ids = converter.tokens2ids(tokens)\n",
    "    id_array = np.array(ids, dtype=np.int64)\n",
    "    return id_array\n",
    "\n",
    "root_dir = Path(\"data\")\n",
    "tmp_dir = Path(\"tmp\")\n",
    "tmp_dir.mkdir(exist_ok=True)\n",
    "num_jobs = os.cpu_count() - 1\n",
    "\n",
    "\n",
    "data_info = {\n",
    "    \"speech\": lambda d: d.load_audio()[0],\n",
    "    \"text\": lambda d: tokenize(d.supervisions[0].text)\n",
    "}"
   ]
  },
  {
   "cell_type": "code",
   "execution_count": null,
   "id": "7d7ceb8a",
   "metadata": {},
   "outputs": [],
   "source": [
    "\n",
    "train_dataset = ez.dataset.ESPnetEZDataset(cutset_core_.to_eager(), data_info=data_info)\n",
    "valid_dataset = ez.dataset.ESPnetEZDataset(cutset_valid_.to_eager(), data_info=data_info)"
   ]
  },
  {
   "cell_type": "code",
   "execution_count": null,
   "id": "c0cc93b0",
   "metadata": {},
   "outputs": [],
   "source": [
    "trainer = ez.trainer.Trainer(\n",
    "    task='asr',\n",
    "    train_config=training_config,\n",
    "    train_dataset=train_dataset,\n",
    "    valid_dataset=valid_dataset,\n",
    "    data_info=data_info,\n",
    "    output_dir=EXP_DIR,\n",
    "    stats_dir=STATS_DIR,\n",
    "    ngpu=1,\n",
    ")"
   ]
  },
  {
   "cell_type": "code",
   "execution_count": null,
   "id": "e41a735a",
   "metadata": {},
   "outputs": [],
   "source": [
    "\n",
    "trainer.collect_stats()"
   ]
  },
  {
   "cell_type": "code",
   "execution_count": null,
   "id": "94381dd2",
   "metadata": {},
   "outputs": [],
   "source": [
    "trainer.train()"
   ]
  }
 ],
 "metadata": {
  "kernelspec": {
   "display_name": "Python 3",
   "language": "python",
   "name": "python3"
  },
  "language_info": {
   "codemirror_mode": {
    "name": "ipython",
    "version": 3
   },
   "file_extension": ".py",
   "mimetype": "text/x-python",
   "name": "python",
   "nbconvert_exporter": "python",
   "pygments_lexer": "ipython3",
   "version": "3.11.13"
  }
 },
 "nbformat": 4,
 "nbformat_minor": 5
}
