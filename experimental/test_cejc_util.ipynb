{
 "cells": [
  {
   "cell_type": "code",
   "execution_count": 7,
   "id": "4e51749d",
   "metadata": {},
   "outputs": [],
   "source": [
    "from fujielab.corpus.lhotse_ext.lhotse.recipes.fujielab_local import cejc_util"
   ]
  },
  {
   "cell_type": "code",
   "execution_count": 8,
   "id": "e7127ea0",
   "metadata": {},
   "outputs": [],
   "source": [
    "cejc_speaker_info = cejc_util.CEJCSpeakerInfo(\n",
    "    cejc_dir=\"/autofs/diamond2/share/corpus/CEJC2304\",\n",
    "    cejc_orig_dir=\"/autofs/diamond2/share/corpus/CEJC\",\n",
    "    cejc_safia_dir=\"/autofs/diamond2/share/corpus/CEJC2_safia\",\n",
    ")"
   ]
  },
  {
   "cell_type": "code",
   "execution_count": 9,
   "id": "6cddbbfd",
   "metadata": {},
   "outputs": [],
   "source": [
    "speaker_id = cejc_speaker_info.get_speaker_id_list()[0]"
   ]
  },
  {
   "cell_type": "code",
   "execution_count": 10,
   "id": "486ba51a",
   "metadata": {},
   "outputs": [],
   "source": [
    "session_id = cejc_speaker_info.get_session_id_list()[0]"
   ]
  },
  {
   "cell_type": "code",
   "execution_count": 11,
   "id": "922ab538",
   "metadata": {},
   "outputs": [],
   "source": [
    "speaker_info_in_session = cejc_speaker_info.get_speaker_info_in_session(session_id)"
   ]
  },
  {
   "cell_type": "code",
   "execution_count": 18,
   "id": "658a9410",
   "metadata": {},
   "outputs": [
    {
     "data": {
      "text/plain": [
       "{'C001_000': 'C001_001_IC01.wav',\n",
       " 'C001_001': 'C001_001_IC02.wav',\n",
       " 'C001_002': 'C001_001_IC04.wav',\n",
       " 'C001_003': 'C001_001_IC03.wav',\n",
       " 'C001_004': 'C001_001_IC05.wav',\n",
       " 'C001_010': None}"
      ]
     },
     "execution_count": 18,
     "metadata": {},
     "output_type": "execute_result"
    }
   ],
   "source": [
    "speaker_info_in_session.id2wavfilename"
   ]
  },
  {
   "cell_type": "code",
   "execution_count": 9,
   "id": "4601d5b9",
   "metadata": {},
   "outputs": [],
   "source": [
    "luw_filepath = cejc_speaker_info.get_session_luw_filepath(session_id)\n",
    "suw_filepath = cejc_speaker_info.get_session_suw_filepath(session_id)"
   ]
  },
  {
   "cell_type": "code",
   "execution_count": 11,
   "id": "62d13c95",
   "metadata": {},
   "outputs": [
    {
     "name": "stdout",
     "output_type": "stream",
     "text": [
      "Warning: No wav filename for speaker C001_010 (Z10A_店員)\n",
      "Warning: No pron: C001_000_C001_001_IC01_0004891_0005491,   0.600s\n",
      "Warning: No pron: C001_000_C001_001_IC01_0007010_0009778,   2.768s\n",
      "Warning: No pron: C001_000_C001_001_IC01_0017227_0018041,   0.814s\n",
      "Warning: No pron: C001_000_C001_001_IC01_0218966_0219610,   0.644s\n",
      "Warning: No pron: C001_000_C001_001_IC01_0239761_0240191,   0.430s\n",
      "Warning: No pron: C001_000_C001_001_IC01_0240673_0241534,   0.861s\n",
      "Warning: No pron: C001_000_C001_001_IC01_0611410_0611713,   0.303s\n",
      "Warning: No pron: C001_000_C001_001_IC01_0674144_0674968,   0.824s\n",
      "Warning: No pron: C001_000_C001_001_IC01_0765916_0767217,   1.301s\n",
      "Warning: No pron: C001_000_C001_001_IC01_0801455_0802064,   0.609s\n",
      "Warning: No pron: C001_000_C001_001_IC01_0811895_0813562,   1.667s\n",
      "Warning: No pron: C001_000_C001_001_IC01_0826493_0828198,   1.705s\n",
      "Warning: No pron: C001_000_C001_001_IC01_0878842_0879589,   0.747s\n",
      "Warning: No pron: C001_000_C001_001_IC01_0881875_0882405,   0.530s\n",
      "Warning: No pron: C001_000_C001_001_IC01_0901976_0902492,   0.516s\n",
      "Warning: No pron: C001_000_C001_001_IC01_1002063_1003123,   1.060s\n",
      "Warning: No pron: C001_000_C001_001_IC01_1006741_1007590,   0.849s\n",
      "Warning: No pron: C001_000_C001_001_IC01_1066470_1068168,   1.698s\n",
      "Warning: No pron: C001_000_C001_001_IC01_1069305_1070053,   0.748s\n",
      "Warning: No pron: C001_000_C001_001_IC01_1070683_1072095,   1.412s\n",
      "Warning: No pron: C001_000_C001_001_IC01_1076410_1077990,   1.580s\n",
      "Warning: No pron: C001_000_C001_001_IC01_1115472_1116275,   0.803s\n",
      "Warning: No pron: C001_000_C001_001_IC01_1169918_1170756,   0.838s\n",
      "Warning: No pron: C001_000_C001_001_IC01_1187248_1188202,   0.954s\n",
      "Warning: No pron: C001_000_C001_001_IC01_1285844_1286963,   1.119s\n",
      "Warning: No pron: C001_000_C001_001_IC01_1290693_1291438,   0.745s\n",
      "Warning: No pron: C001_000_C001_001_IC01_1315673_1316765,   1.092s\n",
      "Warning: No pron: C001_000_C001_001_IC01_1363267_1364279,   1.012s\n",
      "Warning: No pron: C001_000_C001_001_IC01_1373781_1374468,   0.687s\n",
      "Warning: No pron: C001_000_C001_001_IC01_1380691_1381462,   0.771s\n",
      "Warning: No pron: C001_000_C001_001_IC01_1401943_1402787,   0.844s\n",
      "Warning: No pron: C001_000_C001_001_IC01_1430581_1431540,   0.959s\n",
      "Warning: No pron: C001_000_C001_001_IC01_1451303_1451985,   0.682s\n",
      "Warning: No pron: C001_000_C001_001_IC01_1460760_1461199,   0.439s\n",
      "Warning: No pron: C001_000_C001_001_IC01_1464394_1464835,   0.441s\n",
      "Warning: No pron: C001_000_C001_001_IC01_1517772_1518336,   0.564s\n",
      "Warning: No pron: C001_000_C001_001_IC01_1559557_1560565,   1.008s\n",
      "Warning: No pron: C001_000_C001_001_IC01_1626963_1627961,   0.998s\n",
      "Warning: No pron: C001_000_C001_001_IC01_1632091_1632532,   0.441s\n",
      "Warning: No pron: C001_000_C001_001_IC01_1730976_1731430,   0.454s\n",
      "Warning: No pron: C001_000_C001_001_IC01_1785877_1786541,   0.664s\n",
      "Warning: No pron: C001_000_C001_001_IC01_1795013_1796240,   1.227s\n",
      "Warning: No pron: C001_000_C001_001_IC01_1808817_1809892,   1.075s\n",
      "Warning: No pron: C001_000_C001_001_IC01_1818719_1819397,   0.678s\n",
      "Warning: No pron: C001_000_C001_001_IC01_1826563_1827610,   1.047s\n",
      "Warning: No pron: C001_000_C001_001_IC01_1833481_1834020,   0.539s\n",
      "Warning: No pron: C001_000_C001_001_IC01_1844754_1846116,   1.362s\n",
      "Warning: No pron: C001_000_C001_001_IC01_1851113_1851987,   0.874s\n",
      "Warning: No pron: C001_001_C001_001_IC02_0015448_0015673,   0.225s\n",
      "Warning: No pron: C001_001_C001_001_IC02_0016774_0017242,   0.468s\n",
      "Warning: No pron: C001_001_C001_001_IC02_0025429_0025976,   0.547s\n",
      "Warning: No pron: C001_001_C001_001_IC02_0189428_0189843,   0.415s\n",
      "Warning: No pron: C001_001_C001_001_IC02_0204707_0205329,   0.622s\n",
      "Warning: No pron: C001_001_C001_001_IC02_0209538_0209766,   0.228s\n",
      "Warning: No pron: C001_001_C001_001_IC02_0288769_0289835,   1.066s\n",
      "Warning: No pron: C001_001_C001_001_IC02_0302084_0303244,   1.160s\n",
      "Warning: No pron: C001_001_C001_001_IC02_0599396_0600213,   0.817s\n",
      "Warning: No pron: C001_001_C001_001_IC02_0617474_0617887,   0.413s\n",
      "Warning: No pron: C001_001_C001_001_IC02_0656992_0657468,   0.476s\n",
      "Warning: No pron: C001_001_C001_001_IC02_0679707_0680217,   0.510s\n",
      "Warning: No pron: C001_001_C001_001_IC02_0766100_0767657,   1.557s\n",
      "Warning: No pron: C001_001_C001_001_IC02_0777364_0777559,   0.195s\n",
      "Warning: No pron: C001_001_C001_001_IC02_0810397_0810649,   0.252s\n",
      "Warning: No pron: C001_001_C001_001_IC02_0811730_0812954,   1.224s\n",
      "Warning: No pron: C001_001_C001_001_IC02_0819974_0820716,   0.742s\n",
      "Warning: No pron: C001_001_C001_001_IC02_0832678_0832844,   0.166s\n",
      "Warning: No pron: C001_001_C001_001_IC02_0838584_0838839,   0.255s\n",
      "Warning: No pron: C001_001_C001_001_IC02_0934393_0935050,   0.657s\n",
      "Warning: No pron: C001_001_C001_001_IC02_0982975_0983299,   0.324s\n",
      "Warning: No pron: C001_001_C001_001_IC02_1011002_1011460,   0.458s\n",
      "Warning: No pron: C001_001_C001_001_IC02_1018112_1018449,   0.337s\n",
      "Warning: No pron: C001_001_C001_001_IC02_1030431_1030801,   0.371s\n",
      "Warning: No pron: C001_001_C001_001_IC02_1040467_1040657,   0.191s\n",
      "Warning: No pron: C001_001_C001_001_IC02_1112687_1115126,   2.439s\n",
      "Warning: No pron: C001_001_C001_001_IC02_1160592_1160977,   0.385s\n",
      "Warning: No pron: C001_001_C001_001_IC02_1163871_1164107,   0.236s\n",
      "Warning: No pron: C001_001_C001_001_IC02_1181360_1181674,   0.314s\n",
      "Warning: No pron: C001_001_C001_001_IC02_1183450_1184243,   0.793s\n",
      "Warning: No pron: C001_001_C001_001_IC02_1208982_1209203,   0.221s\n",
      "Warning: No pron: C001_001_C001_001_IC02_1256145_1256344,   0.199s\n",
      "Warning: No pron: C001_001_C001_001_IC02_1282948_1283765,   0.817s\n",
      "Warning: No pron: C001_001_C001_001_IC02_1284303_1286257,   1.954s\n",
      "Warning: No pron: C001_001_C001_001_IC02_1293628_1293935,   0.307s\n",
      "Warning: No pron: C001_001_C001_001_IC02_1324074_1324602,   0.528s\n",
      "Warning: No pron: C001_001_C001_001_IC02_1346516_1347216,   0.700s\n",
      "Warning: No pron: C001_001_C001_001_IC02_1380067_1380507,   0.440s\n",
      "Warning: No pron: C001_001_C001_001_IC02_1381023_1381506,   0.483s\n",
      "Warning: Too SHORT utterance: C001_001_C001_001_IC02_1390743_1390841:   0.098s エ\n",
      "Warning: No pron: C001_001_C001_001_IC02_1396483_1396694,   0.211s\n",
      "Warning: No pron: C001_001_C001_001_IC02_1437519_1438038,   0.519s\n",
      "Warning: No pron: C001_001_C001_001_IC02_1445261_1445889,   0.628s\n",
      "Warning: No pron: C001_001_C001_001_IC02_1457767_1458767,   1.000s\n",
      "Warning: No pron: C001_001_C001_001_IC02_1514880_1515518,   0.638s\n",
      "Warning: No pron: C001_001_C001_001_IC02_1687869_1688817,   0.948s\n",
      "Warning: No pron: C001_001_C001_001_IC02_1727694_1728013,   0.319s\n",
      "Warning: No pron: C001_001_C001_001_IC02_1746098_1746509,   0.411s\n",
      "Warning: No pron: C001_001_C001_001_IC02_1756687_1756953,   0.266s\n",
      "Warning: No pron: C001_001_C001_001_IC02_1788279_1788767,   0.488s\n",
      "Warning: No pron: C001_001_C001_001_IC02_1789178_1789938,   0.760s\n",
      "Warning: No pron: C001_001_C001_001_IC02_1853999_1854684,   0.685s\n",
      "Warning: No pron: C001_001_C001_001_IC02_1860250_1861194,   0.944s\n",
      "Warning: Too SHORT utterance: C001_002_C001_001_IC04_0273145_0273223:   0.078s \n",
      "Warning: No pron: C001_002_C001_001_IC04_0288602_0290063,   1.461s\n",
      "Warning: No pron: C001_002_C001_001_IC04_0787840_0788390,   0.550s\n",
      "Warning: No pron: C001_002_C001_001_IC04_0829032_0829375,   0.343s\n",
      "Warning: No pron: C001_002_C001_001_IC04_0856370_0856822,   0.452s\n",
      "Warning: No pron: C001_002_C001_001_IC04_0860256_0860805,   0.549s\n",
      "Warning: No pron: C001_002_C001_001_IC04_1070687_1073424,   2.737s\n",
      "Warning: No pron: C001_002_C001_001_IC04_1167564_1167979,   0.415s\n",
      "Warning: No pron: C001_002_C001_001_IC04_1435377_1436277,   0.900s\n",
      "Warning: No pron: C001_002_C001_001_IC04_1443178_1444212,   1.034s\n",
      "Warning: No pron: C001_002_C001_001_IC04_1493409_1493701,   0.292s\n",
      "Warning: No pron: C001_002_C001_001_IC04_1497844_1498450,   0.606s\n",
      "Warning: No pron: C001_002_C001_001_IC04_1558735_1559553,   0.818s\n",
      "Warning: No pron: C001_002_C001_001_IC04_1588202_1588743,   0.541s\n",
      "Warning: No pron: C001_002_C001_001_IC04_1635380_1635623,   0.243s\n",
      "Warning: No pron: C001_002_C001_001_IC04_1653060_1653759,   0.699s\n",
      "Warning: No pron: C001_002_C001_001_IC04_1659051_1659442,   0.391s\n",
      "Warning: No pron: C001_002_C001_001_IC04_1671596_1672288,   0.692s\n",
      "Warning: No pron: C001_002_C001_001_IC04_1791478_1791902,   0.424s\n",
      "Warning: No pron: C001_002_C001_001_IC04_1826802_1827497,   0.695s\n",
      "Warning: No pron: C001_004_C001_001_IC05_0003733_0004141,   0.408s\n",
      "Warning: No pron: C001_004_C001_001_IC05_0142694_0143241,   0.547s\n",
      "Warning: No pron: C001_004_C001_001_IC05_0187706_0188235,   0.529s\n",
      "Warning: No pron: C001_004_C001_001_IC05_0270673_0271047,   0.374s\n",
      "Warning: No pron: C001_004_C001_001_IC05_0792543_0792678,   0.135s\n",
      "Warning: No pron: C001_004_C001_001_IC05_0934832_0935775,   0.943s\n",
      "Warning: No pron: C001_004_C001_001_IC05_1115177_1116261,   1.084s\n",
      "Warning: No pron: C001_004_C001_001_IC05_1160286_1161542,   1.256s\n",
      "Warning: No pron: C001_004_C001_001_IC05_1333814_1334426,   0.612s\n",
      "Warning: No pron: C001_004_C001_001_IC05_1402075_1402747,   0.672s\n",
      "Warning: No pron: C001_004_C001_001_IC05_1404001_1404544,   0.543s\n",
      "Warning: No pron: C001_004_C001_001_IC05_1512268_1515088,   2.820s\n",
      "Warning: No pron: C001_004_C001_001_IC05_1631808_1632717,   0.909s\n",
      "Warning: No pron: C001_004_C001_001_IC05_1655106_1655360,   0.254s\n",
      "Warning: No pron: C001_004_C001_001_IC05_1786772_1787011,   0.239s\n",
      "Warning: No pron: C001_004_C001_001_IC05_1845109_1845861,   0.752s\n",
      "Warning: No pron: C001_004_C001_001_IC05_1857428_1858419,   0.991s\n",
      "Warning: No pron: C001_003_C001_001_IC03_0005635_0011017,   5.382s\n",
      "Warning: No pron: C001_003_C001_001_IC03_0135078_0135815,   0.737s\n",
      "Warning: No pron: C001_003_C001_001_IC03_0138153_0140602,   2.449s\n",
      "Warning: No pron: C001_003_C001_001_IC03_0189101_0189673,   0.572s\n",
      "Warning: No pron: C001_003_C001_001_IC03_0207894_0209741,   1.847s\n",
      "Warning: No pron: C001_003_C001_001_IC03_0353385_0354019,   0.634s\n",
      "Warning: Too LONG  utterance: C001_003_C001_001_IC03_0708028_0718471:  10.443s ナ ン カ | オ ト コ ワ ー | セ ン バ ン デ | オ ン ナ ワ | ヒャ ク イ イ ナ イ ニ ッ | ハ イ ル ト ー | ナ ン カ ネ | ジュ ー ガ ツ ノ | サ ン レ ン キュ ー ニ ー | ヤ マ オ ー | ハ シ ル | タ イ カ イ ガ | ア ッ テ ー | ソ レ ニ | デ タ イ | ヒ ト ガ | ス ッ ゴ イ | オ ー ク テ\n",
      "Warning: No pron: C001_003_C001_001_IC03_0794195_0795215,   1.020s\n",
      "Warning: No pron: C001_003_C001_001_IC03_0826517_0827274,   0.757s\n",
      "Warning: No pron: C001_003_C001_001_IC03_0869180_0869723,   0.543s\n",
      "Warning: No pron: C001_003_C001_001_IC03_0872991_0873233,   0.242s\n",
      "Warning: No pron: C001_003_C001_001_IC03_0932998_0935183,   2.185s\n",
      "Warning: No pron: C001_003_C001_001_IC03_1066162_1068224,   2.062s\n",
      "Warning: No pron: C001_003_C001_001_IC03_1076423_1079222,   2.799s\n",
      "Warning: No pron: C001_003_C001_001_IC03_1114890_1118135,   3.245s\n",
      "Warning: No pron: C001_003_C001_001_IC03_1167829_1168205,   0.376s\n",
      "Warning: No pron: C001_003_C001_001_IC03_1169059_1169389,   0.330s\n",
      "Warning: Too SHORT utterance: C001_003_C001_001_IC03_1269377_1269460:   0.083s ハ イ\n",
      "Warning: No pron: C001_003_C001_001_IC03_1371089_1374907,   3.818s\n",
      "Warning: No pron: C001_003_C001_001_IC03_1558746_1559009,   0.263s\n",
      "Warning: No pron: C001_003_C001_001_IC03_1629174_1632047,   2.873s\n",
      "Warning: No pron: C001_003_C001_001_IC03_1661750_1663329,   1.579s\n",
      "Warning: No pron: C001_003_C001_001_IC03_1665477_1666653,   1.176s\n",
      "Warning: No pron: C001_003_C001_001_IC03_1793963_1795026,   1.063s\n",
      "Warning: No pron: C001_003_C001_001_IC03_1808603_1810759,   2.156s\n",
      "Warning: No pron: C001_003_C001_001_IC03_1845113_1847678,   2.565s\n"
     ]
    }
   ],
   "source": [
    "text_data = cejc_util.CEJCTextData(suw_filepath, luw_filepath, speaker_info_in_session)"
   ]
  },
  {
   "cell_type": "code",
   "execution_count": 16,
   "id": "3235632a",
   "metadata": {},
   "outputs": [
    {
     "data": {
      "text/plain": [
       "1.866"
      ]
     },
     "execution_count": 16,
     "metadata": {},
     "output_type": "execute_result"
    }
   ],
   "source": [
    "text_data.text_info[0].end_time"
   ]
  }
 ],
 "metadata": {
  "kernelspec": {
   "display_name": "Python 3",
   "language": "python",
   "name": "python3"
  },
  "language_info": {
   "codemirror_mode": {
    "name": "ipython",
    "version": 3
   },
   "file_extension": ".py",
   "mimetype": "text/x-python",
   "name": "python",
   "nbconvert_exporter": "python",
   "pygments_lexer": "ipython3",
   "version": "3.11.13"
  }
 },
 "nbformat": 4,
 "nbformat_minor": 5
}
